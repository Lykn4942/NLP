{
 "cells": [
  {
   "cell_type": "code",
   "execution_count": 1,
   "metadata": {},
   "outputs": [],
   "source": [
    "import pandas as pd"
   ]
  },
  {
   "cell_type": "code",
   "execution_count": 8,
   "metadata": {},
   "outputs": [
    {
     "data": {
      "text/html": [
       "<div>\n",
       "<style scoped>\n",
       "    .dataframe tbody tr th:only-of-type {\n",
       "        vertical-align: middle;\n",
       "    }\n",
       "\n",
       "    .dataframe tbody tr th {\n",
       "        vertical-align: top;\n",
       "    }\n",
       "\n",
       "    .dataframe thead th {\n",
       "        text-align: right;\n",
       "    }\n",
       "</style>\n",
       "<table border=\"1\" class=\"dataframe\">\n",
       "  <thead>\n",
       "    <tr style=\"text-align: right;\">\n",
       "      <th></th>\n",
       "      <th>Description</th>\n",
       "      <th>Gerne</th>\n",
       "      <th>Label</th>\n",
       "    </tr>\n",
       "  </thead>\n",
       "  <tbody>\n",
       "    <tr>\n",
       "      <th>0</th>\n",
       "      <td>Hiệu Sách Cuối Cùng Ở London - Tiểu Thuyết Về ...</td>\n",
       "      <td>Tiểu Thuyết</td>\n",
       "      <td>1</td>\n",
       "    </tr>\n",
       "    <tr>\n",
       "      <th>1</th>\n",
       "      <td>Mùa Hè Không Tên - Bìa Cứng\\n“Mùa hè không tên...</td>\n",
       "      <td>Tiểu Thuyết</td>\n",
       "      <td>1</td>\n",
       "    </tr>\n",
       "    <tr>\n",
       "      <th>2</th>\n",
       "      <td>Đất Máu Sicily\\nSicily ngập tràn ánh mặt trời ...</td>\n",
       "      <td>Tiểu Thuyết</td>\n",
       "      <td>1</td>\n",
       "    </tr>\n",
       "    <tr>\n",
       "      <th>3</th>\n",
       "      <td>Ra Bờ Suối Ngắm Hoa Kèn Hồng\\nRa bờ suối ngắm ...</td>\n",
       "      <td>Tiểu Thuyết</td>\n",
       "      <td>1</td>\n",
       "    </tr>\n",
       "    <tr>\n",
       "      <th>4</th>\n",
       "      <td>Ngày Xưa Có Một Chuyện Tình\\nNGÀY XƯA CÓ MỘT C...</td>\n",
       "      <td>Tiểu Thuyết</td>\n",
       "      <td>1</td>\n",
       "    </tr>\n",
       "    <tr>\n",
       "      <th>...</th>\n",
       "      <td>...</td>\n",
       "      <td>...</td>\n",
       "      <td>...</td>\n",
       "    </tr>\n",
       "    <tr>\n",
       "      <th>2693</th>\n",
       "      <td>Nghiên Cứu Và Ứng Dụng Lâm Sàng Những Bài Thuố...</td>\n",
       "      <td>Khác</td>\n",
       "      <td>3</td>\n",
       "    </tr>\n",
       "    <tr>\n",
       "      <th>2694</th>\n",
       "      <td>Tầng Giếng Sâu - Nhận Diện Và Chữa Lành Nghịch...</td>\n",
       "      <td>Khác</td>\n",
       "      <td>3</td>\n",
       "    </tr>\n",
       "    <tr>\n",
       "      <th>2695</th>\n",
       "      <td>Nếu từng có dịp đi tàu hỏa, bạn hẳn biết rằng ...</td>\n",
       "      <td>Khác</td>\n",
       "      <td>3</td>\n",
       "    </tr>\n",
       "    <tr>\n",
       "      <th>2696</th>\n",
       "      <td>Vào năm 2001, Toni Bernhard bỗng ngã bệnh vì m...</td>\n",
       "      <td>Khác</td>\n",
       "      <td>3</td>\n",
       "    </tr>\n",
       "    <tr>\n",
       "      <th>2697</th>\n",
       "      <td>CHÚNG TA KHÔNG PHẢI LÀ\\nNHỮNG THÂN XÁC ĐƯỢC GẮ...</td>\n",
       "      <td>Khác</td>\n",
       "      <td>3</td>\n",
       "    </tr>\n",
       "  </tbody>\n",
       "</table>\n",
       "<p>2698 rows × 3 columns</p>\n",
       "</div>"
      ],
      "text/plain": [
       "                                            Description        Gerne  Label\n",
       "0     Hiệu Sách Cuối Cùng Ở London - Tiểu Thuyết Về ...  Tiểu Thuyết      1\n",
       "1     Mùa Hè Không Tên - Bìa Cứng\\n“Mùa hè không tên...  Tiểu Thuyết      1\n",
       "2     Đất Máu Sicily\\nSicily ngập tràn ánh mặt trời ...  Tiểu Thuyết      1\n",
       "3     Ra Bờ Suối Ngắm Hoa Kèn Hồng\\nRa bờ suối ngắm ...  Tiểu Thuyết      1\n",
       "4     Ngày Xưa Có Một Chuyện Tình\\nNGÀY XƯA CÓ MỘT C...  Tiểu Thuyết      1\n",
       "...                                                 ...          ...    ...\n",
       "2693  Nghiên Cứu Và Ứng Dụng Lâm Sàng Những Bài Thuố...         Khác      3\n",
       "2694  Tầng Giếng Sâu - Nhận Diện Và Chữa Lành Nghịch...         Khác      3\n",
       "2695  Nếu từng có dịp đi tàu hỏa, bạn hẳn biết rằng ...         Khác      3\n",
       "2696  Vào năm 2001, Toni Bernhard bỗng ngã bệnh vì m...         Khác      3\n",
       "2697  CHÚNG TA KHÔNG PHẢI LÀ\\nNHỮNG THÂN XÁC ĐƯỢC GẮ...         Khác      3\n",
       "\n",
       "[2698 rows x 3 columns]"
      ]
     },
     "execution_count": 8,
     "metadata": {},
     "output_type": "execute_result"
    }
   ],
   "source": [
    "df = pd.read_csv('Dataset.csv', index_col=0)\n",
    "df"
   ]
  },
  {
   "cell_type": "code",
   "execution_count": 3,
   "metadata": {},
   "outputs": [
    {
     "name": "stdout",
     "output_type": "stream",
     "text": [
      "Index(['Description', 'Gerne', 'Label'], dtype='object')\n"
     ]
    }
   ],
   "source": [
    "print(df.columns)"
   ]
  },
  {
   "cell_type": "code",
   "execution_count": 9,
   "metadata": {},
   "outputs": [
    {
     "data": {
      "text/html": [
       "<div>\n",
       "<style scoped>\n",
       "    .dataframe tbody tr th:only-of-type {\n",
       "        vertical-align: middle;\n",
       "    }\n",
       "\n",
       "    .dataframe tbody tr th {\n",
       "        vertical-align: top;\n",
       "    }\n",
       "\n",
       "    .dataframe thead th {\n",
       "        text-align: right;\n",
       "    }\n",
       "</style>\n",
       "<table border=\"1\" class=\"dataframe\">\n",
       "  <thead>\n",
       "    <tr style=\"text-align: right;\">\n",
       "      <th></th>\n",
       "      <th>Description</th>\n",
       "      <th>Gerne</th>\n",
       "      <th>Label</th>\n",
       "    </tr>\n",
       "  </thead>\n",
       "  <tbody>\n",
       "    <tr>\n",
       "      <th>0</th>\n",
       "      <td>Ngày Xưa Có Một Chuyện Tình\\nNGÀY XƯA CÓ MỘT C...</td>\n",
       "      <td>Tiểu Thuyết</td>\n",
       "      <td>1</td>\n",
       "    </tr>\n",
       "    <tr>\n",
       "      <th>1</th>\n",
       "      <td>Đi Qua Hoa Cúc\\nCuốn Đi Qua Hoa Cúc là tập tru...</td>\n",
       "      <td>Tiểu Thuyết</td>\n",
       "      <td>1</td>\n",
       "    </tr>\n",
       "    <tr>\n",
       "      <th>2</th>\n",
       "      <td>Cô Gái Đến Từ Hôm Qua\\nNếu ngày xưa còn bé, Th...</td>\n",
       "      <td>Tiểu Thuyết</td>\n",
       "      <td>1</td>\n",
       "    </tr>\n",
       "    <tr>\n",
       "      <th>3</th>\n",
       "      <td>Những ngày thơ ấu có thể coi là một tác phẩm x...</td>\n",
       "      <td>Tiểu Thuyết</td>\n",
       "      <td>1</td>\n",
       "    </tr>\n",
       "    <tr>\n",
       "      <th>4</th>\n",
       "      <td>Đến tuổi cập kê, Tristran Thorn đem lòng si mê...</td>\n",
       "      <td>Tiểu Thuyết</td>\n",
       "      <td>1</td>\n",
       "    </tr>\n",
       "    <tr>\n",
       "      <th>...</th>\n",
       "      <td>...</td>\n",
       "      <td>...</td>\n",
       "      <td>...</td>\n",
       "    </tr>\n",
       "    <tr>\n",
       "      <th>723</th>\n",
       "      <td>Bài thi IC3 (Internet and Computing Core Certi...</td>\n",
       "      <td>Khác</td>\n",
       "      <td>3</td>\n",
       "    </tr>\n",
       "    <tr>\n",
       "      <th>724</th>\n",
       "      <td>Giảng Đường Trò Chuyện\\nGiảng đường trò chuyện...</td>\n",
       "      <td>Khác</td>\n",
       "      <td>3</td>\n",
       "    </tr>\n",
       "    <tr>\n",
       "      <th>725</th>\n",
       "      <td>Ai Làm Đau Tiếng Việt?\\nChúng tôi không trình ...</td>\n",
       "      <td>Khác</td>\n",
       "      <td>3</td>\n",
       "    </tr>\n",
       "    <tr>\n",
       "      <th>726</th>\n",
       "      <td>Nghiên Cứu Và Ứng Dụng Lâm Sàng Những Bài Thuố...</td>\n",
       "      <td>Khác</td>\n",
       "      <td>3</td>\n",
       "    </tr>\n",
       "    <tr>\n",
       "      <th>727</th>\n",
       "      <td>Vào năm 2001, Toni Bernhard bỗng ngã bệnh vì m...</td>\n",
       "      <td>Khác</td>\n",
       "      <td>3</td>\n",
       "    </tr>\n",
       "  </tbody>\n",
       "</table>\n",
       "<p>728 rows × 3 columns</p>\n",
       "</div>"
      ],
      "text/plain": [
       "                                           Description        Gerne  Label\n",
       "0    Ngày Xưa Có Một Chuyện Tình\\nNGÀY XƯA CÓ MỘT C...  Tiểu Thuyết      1\n",
       "1    Đi Qua Hoa Cúc\\nCuốn Đi Qua Hoa Cúc là tập tru...  Tiểu Thuyết      1\n",
       "2    Cô Gái Đến Từ Hôm Qua\\nNếu ngày xưa còn bé, Th...  Tiểu Thuyết      1\n",
       "3    Những ngày thơ ấu có thể coi là một tác phẩm x...  Tiểu Thuyết      1\n",
       "4    Đến tuổi cập kê, Tristran Thorn đem lòng si mê...  Tiểu Thuyết      1\n",
       "..                                                 ...          ...    ...\n",
       "723  Bài thi IC3 (Internet and Computing Core Certi...         Khác      3\n",
       "724  Giảng Đường Trò Chuyện\\nGiảng đường trò chuyện...         Khác      3\n",
       "725  Ai Làm Đau Tiếng Việt?\\nChúng tôi không trình ...         Khác      3\n",
       "726  Nghiên Cứu Và Ứng Dụng Lâm Sàng Những Bài Thuố...         Khác      3\n",
       "727  Vào năm 2001, Toni Bernhard bỗng ngã bệnh vì m...         Khác      3\n",
       "\n",
       "[728 rows x 3 columns]"
      ]
     },
     "execution_count": 9,
     "metadata": {},
     "output_type": "execute_result"
    }
   ],
   "source": [
    "mask = df['Description'].str.len()<900\n",
    "df = df[mask].reset_index(drop=True)\n",
    "df"
   ]
  },
  {
   "cell_type": "code",
   "execution_count": 10,
   "metadata": {},
   "outputs": [
    {
     "data": {
      "text/plain": [
       "Gerne\n",
       "Khác            301\n",
       "Tiểu Thuyết     275\n",
       "Kỹ Năng Sống    152\n",
       "Name: count, dtype: int64"
      ]
     },
     "execution_count": 10,
     "metadata": {},
     "output_type": "execute_result"
    }
   ],
   "source": [
    "df['Gerne'].value_counts()"
   ]
  },
  {
   "cell_type": "code",
   "execution_count": 11,
   "metadata": {},
   "outputs": [],
   "source": [
    "df.to_csv('data_after_remove.csv')"
   ]
  }
 ],
 "metadata": {
  "kernelspec": {
   "display_name": "Python 3",
   "language": "python",
   "name": "python3"
  },
  "language_info": {
   "codemirror_mode": {
    "name": "ipython",
    "version": 3
   },
   "file_extension": ".py",
   "mimetype": "text/x-python",
   "name": "python",
   "nbconvert_exporter": "python",
   "pygments_lexer": "ipython3",
   "version": "3.10.0"
  },
  "orig_nbformat": 4
 },
 "nbformat": 4,
 "nbformat_minor": 2
}
