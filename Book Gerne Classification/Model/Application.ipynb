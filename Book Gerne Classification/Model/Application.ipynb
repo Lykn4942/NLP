{
 "cells": [
  {
   "cell_type": "code",
   "execution_count": 24,
   "metadata": {},
   "outputs": [],
   "source": [
    "from pyvi import ViTokenizer\n",
    "import pandas as pd\n",
    "import re\n",
    "import joblib\n",
    "from tensorflow.keras.models import load_model"
   ]
  },
  {
   "cell_type": "code",
   "execution_count": 25,
   "metadata": {},
   "outputs": [],
   "source": [
    "def preprocessing(text):\n",
    "    text = text.lower()\n",
    "    text = ViTokenizer.tokenize(text)\n",
    "    with open('vietnamese-stopwords-dash.txt','r', encoding='utf-8') as f:\n",
    "        sw = f.readlines()\n",
    "    sw = [i[:-1] for i in sw]\n",
    "    text = ' '.join([word.lower() for word in text.split() if word.lower() not in sw]).strip()\n",
    "    text = re.sub(r'[^a-zA-Z0123456789àáạảãâầấậẩẫăằắặẳẵèéẹẻẽêềếệểễìíịỉĩòóọỏõôồốộổỗơờớợởỡùúụủũưừứựửữỳýỵỷỹđÀÁẠẢÃÂẦẤẬẨẪĂẰẮẶẲẴÈÉẸẺẼÊỀẾỆỂỄÌÍỊỈĨÒÓỌỎÕÔỒỐỘỔỖƠỜỚỢỞỠÙÚỤỦŨƯỪỨỰỬỮỲÝỴỶỸĐ\\s]', '', text.lower())\n",
    "    return text"
   ]
  },
  {
   "cell_type": "code",
   "execution_count": 26,
   "metadata": {},
   "outputs": [],
   "source": [
    "#load countvectorize , load onehot\n",
    "count_vectorizer = joblib.load('count_vectorizer.joblib')\n",
    "onehot = joblib.load('one_hot_encoder.joblib')\n",
    "tfidf = joblib.load('tfidf.joblib')"
   ]
  },
  {
   "cell_type": "code",
   "execution_count": 27,
   "metadata": {},
   "outputs": [],
   "source": [
    "# Load mô hình đã được huấn luyện\n",
    "model = load_model('final_model.keras')\n"
   ]
  },
  {
   "cell_type": "code",
   "execution_count": 31,
   "metadata": {},
   "outputs": [
    {
     "name": "stdout",
     "output_type": "stream",
     "text": [
      "\u001b[1m1/1\u001b[0m \u001b[32m━━━━━━━━━━━━━━━━━━━━\u001b[0m\u001b[37m\u001b[0m \u001b[1m0s\u001b[0m 172ms/step\n",
      "Genre: [['Kỹ Năng Sống']]\n"
     ]
    }
   ],
   "source": [
    "import numpy as np\n",
    "\n",
    "# Nhập đầu vào từ người dùng\n",
    "user_input = input('Enter your description: ')\n",
    "\n",
    "# Kiểm tra nếu đầu vào trống\n",
    "if not user_input.strip():\n",
    "    print(\"Error: Input cannot be empty.\")\n",
    "else:\n",
    "    try:\n",
    "        # Tiền xử lý dữ liệu đầu vào\n",
    "        preprocessed_input = preprocessing(user_input)  # Tiền xử lý đầu vào\n",
    "        \n",
    "        # Mã hóa đầu vào bằng CountVectorizer\n",
    "        input_encoded = count_vectorizer.transform([preprocessed_input]).toarray()  # Vector hóa CountVectorizer\n",
    "        \n",
    "        # Mã hóa đầu vào bằng TfidfTransformer\n",
    "        input_tfidf = tfidf.transform(input_encoded).toarray()  # Vector hóa TF-IDF\n",
    "        \n",
    "        # Kết hợp các đặc trưng từ CountVectorizer và TF-IDF\n",
    "        input_combined = np.concatenate((input_encoded, input_tfidf), axis=1)\n",
    "\n",
    "        # Dự đoán thể loại\n",
    "        prediction = model.predict(input_combined)  # Đưa vào mô hình\n",
    "        predicted_label = onehot.inverse_transform(prediction)  # Chuyển đổi dự đoán về nhãn gốc\n",
    "        print('Genre:', predicted_label)\n",
    "\n",
    "    except Exception as e:\n",
    "        print(f\"An error occurred during processing: {e}\")\n"
   ]
  }
 ],
 "metadata": {
  "kernelspec": {
   "display_name": "Python 3",
   "language": "python",
   "name": "python3"
  },
  "language_info": {
   "codemirror_mode": {
    "name": "ipython",
    "version": 3
   },
   "file_extension": ".py",
   "mimetype": "text/x-python",
   "name": "python",
   "nbconvert_exporter": "python",
   "pygments_lexer": "ipython3",
   "version": "3.10.0"
  },
  "orig_nbformat": 4
 },
 "nbformat": 4,
 "nbformat_minor": 2
}
