{
 "cells": [
  {
   "cell_type": "markdown",
   "metadata": {},
   "source": [
    "**Training model**"
   ]
  },
  {
   "cell_type": "code",
   "execution_count": 38,
   "metadata": {
    "execution": {
     "iopub.execute_input": "2023-07-14T17:58:22.410185Z",
     "iopub.status.busy": "2023-07-14T17:58:22.409781Z",
     "iopub.status.idle": "2023-07-14T17:58:32.934259Z",
     "shell.execute_reply": "2023-07-14T17:58:32.932928Z",
     "shell.execute_reply.started": "2023-07-14T17:58:22.410152Z"
    },
    "trusted": true
   },
   "outputs": [],
   "source": [
    "import pandas as pd\n",
    "import numpy as np\n",
    "import tensorflow as tf\n",
    "from sklearn.model_selection import train_test_split\n",
    "import time"
   ]
  },
  {
   "cell_type": "code",
   "execution_count": 39,
   "metadata": {
    "execution": {
     "iopub.execute_input": "2023-07-14T17:58:32.936940Z",
     "iopub.status.busy": "2023-07-14T17:58:32.936205Z",
     "iopub.status.idle": "2023-07-14T17:58:33.353239Z",
     "shell.execute_reply": "2023-07-14T17:58:33.352047Z",
     "shell.execute_reply.started": "2023-07-14T17:58:32.936906Z"
    },
    "trusted": true
   },
   "outputs": [
    {
     "data": {
      "text/html": [
       "<div>\n",
       "<style scoped>\n",
       "    .dataframe tbody tr th:only-of-type {\n",
       "        vertical-align: middle;\n",
       "    }\n",
       "\n",
       "    .dataframe tbody tr th {\n",
       "        vertical-align: top;\n",
       "    }\n",
       "\n",
       "    .dataframe thead th {\n",
       "        text-align: right;\n",
       "    }\n",
       "</style>\n",
       "<table border=\"1\" class=\"dataframe\">\n",
       "  <thead>\n",
       "    <tr style=\"text-align: right;\">\n",
       "      <th></th>\n",
       "      <th>Description</th>\n",
       "      <th>Gerne</th>\n",
       "      <th>Label</th>\n",
       "      <th>Description_vector</th>\n",
       "      <th>Length</th>\n",
       "      <th>TFIDF</th>\n",
       "    </tr>\n",
       "  </thead>\n",
       "  <tbody>\n",
       "    <tr>\n",
       "      <th>0</th>\n",
       "      <td>xưa tình xưa tình tác phẩm tinh 2 2016 văn ngu...</td>\n",
       "      <td>Tiểu Thuyết</td>\n",
       "      <td>1</td>\n",
       "      <td>[0, 0, 0, 0, 0, 0, 0, 0, 0, 0, 0, 0, 0, 0, 0, ...</td>\n",
       "      <td>92</td>\n",
       "      <td>[0.0, 0.0, 0.0, 0.0, 0.0, 0.0, 0.0, 0.0, 0.0, ...</td>\n",
       "    </tr>\n",
       "    <tr>\n",
       "      <th>1</th>\n",
       "      <td>tình xưa tình tác phẩm tinh 2 2016 văn nguyễn ...</td>\n",
       "      <td>Tiểu Thuyết</td>\n",
       "      <td>1</td>\n",
       "      <td>[0, 0, 0, 0, 0, 0, 0, 0, 0, 0, 0, 0, 0, 0, 0, ...</td>\n",
       "      <td>92</td>\n",
       "      <td>[0.0, 0.0, 0.0, 0.0, 0.0, 0.0, 0.0, 0.0, 0.0, ...</td>\n",
       "    </tr>\n",
       "    <tr>\n",
       "      <th>2</th>\n",
       "      <td>xưa tình tác phẩm tinh 2 2016 văn nguyễn nhật ...</td>\n",
       "      <td>Tiểu Thuyết</td>\n",
       "      <td>1</td>\n",
       "      <td>[0, 0, 0, 0, 0, 0, 0, 0, 0, 0, 0, 0, 0, 0, 0, ...</td>\n",
       "      <td>92</td>\n",
       "      <td>[0.0, 0.0, 0.0, 0.0, 0.0, 0.0, 0.0, 0.0, 0.0, ...</td>\n",
       "    </tr>\n",
       "    <tr>\n",
       "      <th>3</th>\n",
       "      <td>tình tác phẩm tinh 2 2016 văn nguyễn nhật ánh ...</td>\n",
       "      <td>Tiểu Thuyết</td>\n",
       "      <td>1</td>\n",
       "      <td>[0, 0, 0, 0, 0, 0, 0, 0, 0, 0, 0, 0, 0, 0, 0, ...</td>\n",
       "      <td>93</td>\n",
       "      <td>[0.0, 0.0, 0.0, 0.0, 0.0, 0.0, 0.0, 0.0, 0.0, ...</td>\n",
       "    </tr>\n",
       "    <tr>\n",
       "      <th>4</th>\n",
       "      <td>tác phẩm tinh 2 2016 văn nguyễn nhật ánh 300 t...</td>\n",
       "      <td>Tiểu Thuyết</td>\n",
       "      <td>1</td>\n",
       "      <td>[0, 0, 0, 0, 0, 0, 0, 0, 0, 0, 0, 0, 0, 0, 0, ...</td>\n",
       "      <td>92</td>\n",
       "      <td>[0.0, 0.0, 0.0, 0.0, 0.0, 0.0, 0.0, 0.0, 0.0, ...</td>\n",
       "    </tr>\n",
       "  </tbody>\n",
       "</table>\n",
       "</div>"
      ],
      "text/plain": [
       "                                         Description        Gerne  Label  \\\n",
       "0  xưa tình xưa tình tác phẩm tinh 2 2016 văn ngu...  Tiểu Thuyết      1   \n",
       "1  tình xưa tình tác phẩm tinh 2 2016 văn nguyễn ...  Tiểu Thuyết      1   \n",
       "2  xưa tình tác phẩm tinh 2 2016 văn nguyễn nhật ...  Tiểu Thuyết      1   \n",
       "3  tình tác phẩm tinh 2 2016 văn nguyễn nhật ánh ...  Tiểu Thuyết      1   \n",
       "4  tác phẩm tinh 2 2016 văn nguyễn nhật ánh 300 t...  Tiểu Thuyết      1   \n",
       "\n",
       "                                  Description_vector  Length  \\\n",
       "0  [0, 0, 0, 0, 0, 0, 0, 0, 0, 0, 0, 0, 0, 0, 0, ...      92   \n",
       "1  [0, 0, 0, 0, 0, 0, 0, 0, 0, 0, 0, 0, 0, 0, 0, ...      92   \n",
       "2  [0, 0, 0, 0, 0, 0, 0, 0, 0, 0, 0, 0, 0, 0, 0, ...      92   \n",
       "3  [0, 0, 0, 0, 0, 0, 0, 0, 0, 0, 0, 0, 0, 0, 0, ...      93   \n",
       "4  [0, 0, 0, 0, 0, 0, 0, 0, 0, 0, 0, 0, 0, 0, 0, ...      92   \n",
       "\n",
       "                                               TFIDF  \n",
       "0  [0.0, 0.0, 0.0, 0.0, 0.0, 0.0, 0.0, 0.0, 0.0, ...  \n",
       "1  [0.0, 0.0, 0.0, 0.0, 0.0, 0.0, 0.0, 0.0, 0.0, ...  \n",
       "2  [0.0, 0.0, 0.0, 0.0, 0.0, 0.0, 0.0, 0.0, 0.0, ...  \n",
       "3  [0.0, 0.0, 0.0, 0.0, 0.0, 0.0, 0.0, 0.0, 0.0, ...  \n",
       "4  [0.0, 0.0, 0.0, 0.0, 0.0, 0.0, 0.0, 0.0, 0.0, ...  "
      ]
     },
     "execution_count": 39,
     "metadata": {},
     "output_type": "execute_result"
    }
   ],
   "source": [
    "input_name = 'data_remove_fixed.csv'\n",
    "df = pd.read_csv(input_name, index_col=0)\n",
    "df.head()"
   ]
  },
  {
   "cell_type": "code",
   "execution_count": 40,
   "metadata": {
    "execution": {
     "iopub.execute_input": "2023-07-14T17:58:33.354863Z",
     "iopub.status.busy": "2023-07-14T17:58:33.354486Z",
     "iopub.status.idle": "2023-07-14T17:58:33.362165Z",
     "shell.execute_reply": "2023-07-14T17:58:33.361058Z",
     "shell.execute_reply.started": "2023-07-14T17:58:33.354834Z"
    },
    "trusted": true
   },
   "outputs": [
    {
     "data": {
      "text/plain": [
       "(36556, 6)"
      ]
     },
     "execution_count": 40,
     "metadata": {},
     "output_type": "execute_result"
    }
   ],
   "source": [
    "df.shape"
   ]
  },
  {
   "cell_type": "code",
   "execution_count": 41,
   "metadata": {
    "execution": {
     "iopub.execute_input": "2023-07-14T17:58:39.514663Z",
     "iopub.status.busy": "2023-07-14T17:58:39.514287Z",
     "iopub.status.idle": "2023-07-14T17:58:51.317094Z",
     "shell.execute_reply": "2023-07-14T17:58:51.315864Z",
     "shell.execute_reply.started": "2023-07-14T17:58:39.514635Z"
    },
    "trusted": true
   },
   "outputs": [],
   "source": [
    "from sklearn.feature_extraction.text import CountVectorizer, TfidfTransformer\n",
    "from scipy.sparse import hstack\n",
    "\n",
    "# CountVectorizer\n",
    "count_vectorizer = CountVectorizer()\n",
    "X_count = count_vectorizer.fit_transform(df['Description'])  # Giữ lại dạng sparse\n",
    "\n",
    "# TF-IDF\n",
    "tfidf_transformer = TfidfTransformer()\n",
    "X_tfidf = tfidf_transformer.fit_transform(X_count)  # Giữ lại dạng sparse\n",
    "\n",
    "# Combine count-based features and TF-IDF features (giữ dạng sparse)\n",
    "X_combined = hstack([X_count, X_tfidf])\n",
    "\n"
   ]
  },
  {
   "cell_type": "code",
   "execution_count": 42,
   "metadata": {
    "execution": {
     "iopub.execute_input": "2023-07-14T17:58:37.807660Z",
     "iopub.status.busy": "2023-07-14T17:58:37.807267Z",
     "iopub.status.idle": "2023-07-14T17:58:37.841798Z",
     "shell.execute_reply": "2023-07-14T17:58:37.840371Z",
     "shell.execute_reply.started": "2023-07-14T17:58:37.807632Z"
    },
    "trusted": true
   },
   "outputs": [],
   "source": [
    "from sklearn.preprocessing import OneHotEncoder\n",
    "\n",
    "onehot = OneHotEncoder(sparse_output=False)\n",
    "\n",
    "y  = onehot.fit_transform(df[['Gerne']])"
   ]
  },
  {
   "cell_type": "code",
   "execution_count": 43,
   "metadata": {
    "execution": {
     "iopub.execute_input": "2023-07-14T17:58:51.319476Z",
     "iopub.status.busy": "2023-07-14T17:58:51.319130Z",
     "iopub.status.idle": "2023-07-14T17:58:52.984494Z",
     "shell.execute_reply": "2023-07-14T17:58:52.983566Z",
     "shell.execute_reply.started": "2023-07-14T17:58:51.319449Z"
    },
    "trusted": true
   },
   "outputs": [],
   "source": [
    "X_train, X_test, y_train, y_test = train_test_split(X_combined, y, test_size=0.2, random_state=42)"
   ]
  },
  {
   "cell_type": "code",
   "execution_count": 44,
   "metadata": {
    "execution": {
     "iopub.execute_input": "2023-07-14T17:58:57.486241Z",
     "iopub.status.busy": "2023-07-14T17:58:57.485311Z",
     "iopub.status.idle": "2023-07-14T17:58:57.493893Z",
     "shell.execute_reply": "2023-07-14T17:58:57.492659Z",
     "shell.execute_reply.started": "2023-07-14T17:58:57.486201Z"
    },
    "trusted": true
   },
   "outputs": [
    {
     "data": {
      "text/plain": [
       "(29244, 7114)"
      ]
     },
     "execution_count": 44,
     "metadata": {},
     "output_type": "execute_result"
    }
   ],
   "source": [
    "X_train.shape"
   ]
  },
  {
   "cell_type": "code",
   "execution_count": 47,
   "metadata": {
    "execution": {
     "iopub.execute_input": "2023-07-14T17:59:07.289624Z",
     "iopub.status.busy": "2023-07-14T17:59:07.289255Z",
     "iopub.status.idle": "2023-07-14T17:59:07.587789Z",
     "shell.execute_reply": "2023-07-14T17:59:07.586548Z",
     "shell.execute_reply.started": "2023-07-14T17:59:07.289597Z"
    },
    "trusted": true
   },
   "outputs": [
    {
     "data": {
      "text/html": [
       "<pre style=\"white-space:pre;overflow-x:auto;line-height:normal;font-family:Menlo,'DejaVu Sans Mono',consolas,'Courier New',monospace\"><span style=\"font-weight: bold\">Model: \"sequential_3\"</span>\n",
       "</pre>\n"
      ],
      "text/plain": [
       "\u001b[1mModel: \"sequential_3\"\u001b[0m\n"
      ]
     },
     "metadata": {},
     "output_type": "display_data"
    },
    {
     "data": {
      "text/html": [
       "<pre style=\"white-space:pre;overflow-x:auto;line-height:normal;font-family:Menlo,'DejaVu Sans Mono',consolas,'Courier New',monospace\">┏━━━━━━━━━━━━━━━━━━━━━━━━━━━━━━━━━┳━━━━━━━━━━━━━━━━━━━━━━━━┳━━━━━━━━━━━━━━━┓\n",
       "┃<span style=\"font-weight: bold\"> Layer (type)                    </span>┃<span style=\"font-weight: bold\"> Output Shape           </span>┃<span style=\"font-weight: bold\">       Param # </span>┃\n",
       "┡━━━━━━━━━━━━━━━━━━━━━━━━━━━━━━━━━╇━━━━━━━━━━━━━━━━━━━━━━━━╇━━━━━━━━━━━━━━━┩\n",
       "│ batch_normalization_3           │ (<span style=\"color: #00d7ff; text-decoration-color: #00d7ff\">None</span>, <span style=\"color: #00af00; text-decoration-color: #00af00\">7114</span>)           │        <span style=\"color: #00af00; text-decoration-color: #00af00\">28,456</span> │\n",
       "│ (<span style=\"color: #0087ff; text-decoration-color: #0087ff\">BatchNormalization</span>)            │                        │               │\n",
       "├─────────────────────────────────┼────────────────────────┼───────────────┤\n",
       "│ dense_15 (<span style=\"color: #0087ff; text-decoration-color: #0087ff\">Dense</span>)                │ (<span style=\"color: #00d7ff; text-decoration-color: #00d7ff\">None</span>, <span style=\"color: #00af00; text-decoration-color: #00af00\">200</span>)            │     <span style=\"color: #00af00; text-decoration-color: #00af00\">1,423,000</span> │\n",
       "├─────────────────────────────────┼────────────────────────┼───────────────┤\n",
       "│ dropout_12 (<span style=\"color: #0087ff; text-decoration-color: #0087ff\">Dropout</span>)            │ (<span style=\"color: #00d7ff; text-decoration-color: #00d7ff\">None</span>, <span style=\"color: #00af00; text-decoration-color: #00af00\">200</span>)            │             <span style=\"color: #00af00; text-decoration-color: #00af00\">0</span> │\n",
       "├─────────────────────────────────┼────────────────────────┼───────────────┤\n",
       "│ dense_16 (<span style=\"color: #0087ff; text-decoration-color: #0087ff\">Dense</span>)                │ (<span style=\"color: #00d7ff; text-decoration-color: #00d7ff\">None</span>, <span style=\"color: #00af00; text-decoration-color: #00af00\">400</span>)            │        <span style=\"color: #00af00; text-decoration-color: #00af00\">80,400</span> │\n",
       "├─────────────────────────────────┼────────────────────────┼───────────────┤\n",
       "│ dropout_13 (<span style=\"color: #0087ff; text-decoration-color: #0087ff\">Dropout</span>)            │ (<span style=\"color: #00d7ff; text-decoration-color: #00d7ff\">None</span>, <span style=\"color: #00af00; text-decoration-color: #00af00\">400</span>)            │             <span style=\"color: #00af00; text-decoration-color: #00af00\">0</span> │\n",
       "├─────────────────────────────────┼────────────────────────┼───────────────┤\n",
       "│ dense_17 (<span style=\"color: #0087ff; text-decoration-color: #0087ff\">Dense</span>)                │ (<span style=\"color: #00d7ff; text-decoration-color: #00d7ff\">None</span>, <span style=\"color: #00af00; text-decoration-color: #00af00\">300</span>)            │       <span style=\"color: #00af00; text-decoration-color: #00af00\">120,300</span> │\n",
       "├─────────────────────────────────┼────────────────────────┼───────────────┤\n",
       "│ dropout_14 (<span style=\"color: #0087ff; text-decoration-color: #0087ff\">Dropout</span>)            │ (<span style=\"color: #00d7ff; text-decoration-color: #00d7ff\">None</span>, <span style=\"color: #00af00; text-decoration-color: #00af00\">300</span>)            │             <span style=\"color: #00af00; text-decoration-color: #00af00\">0</span> │\n",
       "├─────────────────────────────────┼────────────────────────┼───────────────┤\n",
       "│ dense_18 (<span style=\"color: #0087ff; text-decoration-color: #0087ff\">Dense</span>)                │ (<span style=\"color: #00d7ff; text-decoration-color: #00d7ff\">None</span>, <span style=\"color: #00af00; text-decoration-color: #00af00\">150</span>)            │        <span style=\"color: #00af00; text-decoration-color: #00af00\">45,150</span> │\n",
       "├─────────────────────────────────┼────────────────────────┼───────────────┤\n",
       "│ dropout_15 (<span style=\"color: #0087ff; text-decoration-color: #0087ff\">Dropout</span>)            │ (<span style=\"color: #00d7ff; text-decoration-color: #00d7ff\">None</span>, <span style=\"color: #00af00; text-decoration-color: #00af00\">150</span>)            │             <span style=\"color: #00af00; text-decoration-color: #00af00\">0</span> │\n",
       "├─────────────────────────────────┼────────────────────────┼───────────────┤\n",
       "│ dense_19 (<span style=\"color: #0087ff; text-decoration-color: #0087ff\">Dense</span>)                │ (<span style=\"color: #00d7ff; text-decoration-color: #00d7ff\">None</span>, <span style=\"color: #00af00; text-decoration-color: #00af00\">3</span>)              │           <span style=\"color: #00af00; text-decoration-color: #00af00\">453</span> │\n",
       "└─────────────────────────────────┴────────────────────────┴───────────────┘\n",
       "</pre>\n"
      ],
      "text/plain": [
       "┏━━━━━━━━━━━━━━━━━━━━━━━━━━━━━━━━━┳━━━━━━━━━━━━━━━━━━━━━━━━┳━━━━━━━━━━━━━━━┓\n",
       "┃\u001b[1m \u001b[0m\u001b[1mLayer (type)                   \u001b[0m\u001b[1m \u001b[0m┃\u001b[1m \u001b[0m\u001b[1mOutput Shape          \u001b[0m\u001b[1m \u001b[0m┃\u001b[1m \u001b[0m\u001b[1m      Param #\u001b[0m\u001b[1m \u001b[0m┃\n",
       "┡━━━━━━━━━━━━━━━━━━━━━━━━━━━━━━━━━╇━━━━━━━━━━━━━━━━━━━━━━━━╇━━━━━━━━━━━━━━━┩\n",
       "│ batch_normalization_3           │ (\u001b[38;5;45mNone\u001b[0m, \u001b[38;5;34m7114\u001b[0m)           │        \u001b[38;5;34m28,456\u001b[0m │\n",
       "│ (\u001b[38;5;33mBatchNormalization\u001b[0m)            │                        │               │\n",
       "├─────────────────────────────────┼────────────────────────┼───────────────┤\n",
       "│ dense_15 (\u001b[38;5;33mDense\u001b[0m)                │ (\u001b[38;5;45mNone\u001b[0m, \u001b[38;5;34m200\u001b[0m)            │     \u001b[38;5;34m1,423,000\u001b[0m │\n",
       "├─────────────────────────────────┼────────────────────────┼───────────────┤\n",
       "│ dropout_12 (\u001b[38;5;33mDropout\u001b[0m)            │ (\u001b[38;5;45mNone\u001b[0m, \u001b[38;5;34m200\u001b[0m)            │             \u001b[38;5;34m0\u001b[0m │\n",
       "├─────────────────────────────────┼────────────────────────┼───────────────┤\n",
       "│ dense_16 (\u001b[38;5;33mDense\u001b[0m)                │ (\u001b[38;5;45mNone\u001b[0m, \u001b[38;5;34m400\u001b[0m)            │        \u001b[38;5;34m80,400\u001b[0m │\n",
       "├─────────────────────────────────┼────────────────────────┼───────────────┤\n",
       "│ dropout_13 (\u001b[38;5;33mDropout\u001b[0m)            │ (\u001b[38;5;45mNone\u001b[0m, \u001b[38;5;34m400\u001b[0m)            │             \u001b[38;5;34m0\u001b[0m │\n",
       "├─────────────────────────────────┼────────────────────────┼───────────────┤\n",
       "│ dense_17 (\u001b[38;5;33mDense\u001b[0m)                │ (\u001b[38;5;45mNone\u001b[0m, \u001b[38;5;34m300\u001b[0m)            │       \u001b[38;5;34m120,300\u001b[0m │\n",
       "├─────────────────────────────────┼────────────────────────┼───────────────┤\n",
       "│ dropout_14 (\u001b[38;5;33mDropout\u001b[0m)            │ (\u001b[38;5;45mNone\u001b[0m, \u001b[38;5;34m300\u001b[0m)            │             \u001b[38;5;34m0\u001b[0m │\n",
       "├─────────────────────────────────┼────────────────────────┼───────────────┤\n",
       "│ dense_18 (\u001b[38;5;33mDense\u001b[0m)                │ (\u001b[38;5;45mNone\u001b[0m, \u001b[38;5;34m150\u001b[0m)            │        \u001b[38;5;34m45,150\u001b[0m │\n",
       "├─────────────────────────────────┼────────────────────────┼───────────────┤\n",
       "│ dropout_15 (\u001b[38;5;33mDropout\u001b[0m)            │ (\u001b[38;5;45mNone\u001b[0m, \u001b[38;5;34m150\u001b[0m)            │             \u001b[38;5;34m0\u001b[0m │\n",
       "├─────────────────────────────────┼────────────────────────┼───────────────┤\n",
       "│ dense_19 (\u001b[38;5;33mDense\u001b[0m)                │ (\u001b[38;5;45mNone\u001b[0m, \u001b[38;5;34m3\u001b[0m)              │           \u001b[38;5;34m453\u001b[0m │\n",
       "└─────────────────────────────────┴────────────────────────┴───────────────┘\n"
      ]
     },
     "metadata": {},
     "output_type": "display_data"
    },
    {
     "data": {
      "text/html": [
       "<pre style=\"white-space:pre;overflow-x:auto;line-height:normal;font-family:Menlo,'DejaVu Sans Mono',consolas,'Courier New',monospace\"><span style=\"font-weight: bold\"> Total params: </span><span style=\"color: #00af00; text-decoration-color: #00af00\">1,697,759</span> (6.48 MB)\n",
       "</pre>\n"
      ],
      "text/plain": [
       "\u001b[1m Total params: \u001b[0m\u001b[38;5;34m1,697,759\u001b[0m (6.48 MB)\n"
      ]
     },
     "metadata": {},
     "output_type": "display_data"
    },
    {
     "data": {
      "text/html": [
       "<pre style=\"white-space:pre;overflow-x:auto;line-height:normal;font-family:Menlo,'DejaVu Sans Mono',consolas,'Courier New',monospace\"><span style=\"font-weight: bold\"> Trainable params: </span><span style=\"color: #00af00; text-decoration-color: #00af00\">1,683,531</span> (6.42 MB)\n",
       "</pre>\n"
      ],
      "text/plain": [
       "\u001b[1m Trainable params: \u001b[0m\u001b[38;5;34m1,683,531\u001b[0m (6.42 MB)\n"
      ]
     },
     "metadata": {},
     "output_type": "display_data"
    },
    {
     "data": {
      "text/html": [
       "<pre style=\"white-space:pre;overflow-x:auto;line-height:normal;font-family:Menlo,'DejaVu Sans Mono',consolas,'Courier New',monospace\"><span style=\"font-weight: bold\"> Non-trainable params: </span><span style=\"color: #00af00; text-decoration-color: #00af00\">14,228</span> (55.58 KB)\n",
       "</pre>\n"
      ],
      "text/plain": [
       "\u001b[1m Non-trainable params: \u001b[0m\u001b[38;5;34m14,228\u001b[0m (55.58 KB)\n"
      ]
     },
     "metadata": {},
     "output_type": "display_data"
    }
   ],
   "source": [
    "from keras.layers import Dropout, BatchNormalization, Dense\n",
    "from keras.models import Sequential\n",
    "\n",
    "# Khởi tạo mô hình\n",
    "model = Sequential()\n",
    "\n",
    "# Lớp BatchNormalization cho đầu vào\n",
    "model.add(BatchNormalization(input_shape=(7114,)))  # input_dim được thay bằng input_shape\n",
    "\n",
    "# Lớp Dense 1\n",
    "model.add(Dense(200, kernel_initializer='he_uniform', activation='relu'))\n",
    "model.add(Dropout(0.2))\n",
    "\n",
    "# Lớp Dense 2\n",
    "model.add(Dense(400, kernel_initializer='he_uniform', activation='relu'))\n",
    "model.add(Dropout(0.2))\n",
    "\n",
    "# Lớp Dense 3\n",
    "model.add(Dense(300, kernel_initializer='he_uniform', activation='relu'))\n",
    "model.add(Dropout(0.2))\n",
    "\n",
    "# Lớp Dense 4\n",
    "model.add(Dense(150, kernel_initializer='he_uniform', activation='relu'))\n",
    "model.add(Dropout(0.2))\n",
    "\n",
    "# Lớp đầu ra (phân loại nhị phân)\n",
    "model.add(Dense(3, activation='sigmoid'))  \n",
    "\n",
    "# Tổng quan mô hình\n",
    "model.summary()\n"
   ]
  },
  {
   "cell_type": "code",
   "execution_count": 48,
   "metadata": {
    "execution": {
     "iopub.execute_input": "2023-07-14T18:00:07.122859Z",
     "iopub.status.busy": "2023-07-14T18:00:07.122440Z",
     "iopub.status.idle": "2023-07-14T18:09:49.274745Z",
     "shell.execute_reply": "2023-07-14T18:09:49.273558Z",
     "shell.execute_reply.started": "2023-07-14T18:00:07.122828Z"
    },
    "trusted": true
   },
   "outputs": [
    {
     "name": "stdout",
     "output_type": "stream",
     "text": [
      "Epoch 1/100\n",
      "\u001b[1m914/914\u001b[0m \u001b[32m━━━━━━━━━━━━━━━━━━━━\u001b[0m\u001b[37m\u001b[0m \u001b[1m19s\u001b[0m 18ms/step - accuracy: 0.8889 - loss: 0.1572 - val_accuracy: 0.9959 - val_loss: 0.0108 - learning_rate: 0.0010\n",
      "Epoch 2/100\n",
      "\u001b[1m914/914\u001b[0m \u001b[32m━━━━━━━━━━━━━━━━━━━━\u001b[0m\u001b[37m\u001b[0m \u001b[1m33s\u001b[0m 36ms/step - accuracy: 0.9960 - loss: 0.0086 - val_accuracy: 0.9969 - val_loss: 0.0093 - learning_rate: 0.0010\n",
      "Epoch 3/100\n",
      "\u001b[1m914/914\u001b[0m \u001b[32m━━━━━━━━━━━━━━━━━━━━\u001b[0m\u001b[37m\u001b[0m \u001b[1m24s\u001b[0m 26ms/step - accuracy: 0.9948 - loss: 0.0118 - val_accuracy: 0.9981 - val_loss: 0.0129 - learning_rate: 0.0010\n",
      "Epoch 4/100\n",
      "\u001b[1m914/914\u001b[0m \u001b[32m━━━━━━━━━━━━━━━━━━━━\u001b[0m\u001b[37m\u001b[0m \u001b[1m16s\u001b[0m 17ms/step - accuracy: 0.9977 - loss: 0.0056 - val_accuracy: 0.9974 - val_loss: 0.0087 - learning_rate: 0.0010\n",
      "Epoch 5/100\n",
      "\u001b[1m914/914\u001b[0m \u001b[32m━━━━━━━━━━━━━━━━━━━━\u001b[0m\u001b[37m\u001b[0m \u001b[1m24s\u001b[0m 26ms/step - accuracy: 0.9970 - loss: 0.0101 - val_accuracy: 0.9960 - val_loss: 0.0269 - learning_rate: 0.0010\n",
      "Epoch 6/100\n",
      "\u001b[1m914/914\u001b[0m \u001b[32m━━━━━━━━━━━━━━━━━━━━\u001b[0m\u001b[37m\u001b[0m \u001b[1m33s\u001b[0m 35ms/step - accuracy: 0.9973 - loss: 0.0072 - val_accuracy: 0.9989 - val_loss: 0.0052 - learning_rate: 0.0010\n",
      "Epoch 7/100\n",
      "\u001b[1m914/914\u001b[0m \u001b[32m━━━━━━━━━━━━━━━━━━━━\u001b[0m\u001b[37m\u001b[0m \u001b[1m13s\u001b[0m 14ms/step - accuracy: 0.9990 - loss: 0.0024 - val_accuracy: 0.9995 - val_loss: 0.0016 - learning_rate: 0.0010\n",
      "Epoch 8/100\n",
      "\u001b[1m914/914\u001b[0m \u001b[32m━━━━━━━━━━━━━━━━━━━━\u001b[0m\u001b[37m\u001b[0m \u001b[1m25s\u001b[0m 27ms/step - accuracy: 0.9987 - loss: 0.0030 - val_accuracy: 0.9989 - val_loss: 0.0063 - learning_rate: 0.0010\n",
      "Epoch 9/100\n",
      "\u001b[1m914/914\u001b[0m \u001b[32m━━━━━━━━━━━━━━━━━━━━\u001b[0m\u001b[37m\u001b[0m \u001b[1m28s\u001b[0m 31ms/step - accuracy: 0.9970 - loss: 0.0083 - val_accuracy: 0.9992 - val_loss: 0.0035 - learning_rate: 0.0010\n",
      "Epoch 10/100\n",
      "\u001b[1m914/914\u001b[0m \u001b[32m━━━━━━━━━━━━━━━━━━━━\u001b[0m\u001b[37m\u001b[0m \u001b[1m15s\u001b[0m 17ms/step - accuracy: 0.9987 - loss: 0.0037 - val_accuracy: 0.9989 - val_loss: 0.0153 - learning_rate: 0.0010\n",
      "Epoch 11/100\n",
      "\u001b[1m914/914\u001b[0m \u001b[32m━━━━━━━━━━━━━━━━━━━━\u001b[0m\u001b[37m\u001b[0m \u001b[1m14s\u001b[0m 15ms/step - accuracy: 0.9987 - loss: 0.0041 - val_accuracy: 0.9985 - val_loss: 0.0091 - learning_rate: 0.0010\n",
      "Epoch 12/100\n",
      "\u001b[1m914/914\u001b[0m \u001b[32m━━━━━━━━━━━━━━━━━━━━\u001b[0m\u001b[37m\u001b[0m \u001b[1m18s\u001b[0m 19ms/step - accuracy: 0.9985 - loss: 0.0053 - val_accuracy: 0.9989 - val_loss: 0.0055 - learning_rate: 0.0010\n",
      "Epoch 13/100\n",
      "\u001b[1m914/914\u001b[0m \u001b[32m━━━━━━━━━━━━━━━━━━━━\u001b[0m\u001b[37m\u001b[0m \u001b[1m17s\u001b[0m 18ms/step - accuracy: 0.9988 - loss: 0.0035 - val_accuracy: 0.9993 - val_loss: 0.0025 - learning_rate: 1.0000e-04\n",
      "Epoch 14/100\n",
      "\u001b[1m914/914\u001b[0m \u001b[32m━━━━━━━━━━━━━━━━━━━━\u001b[0m\u001b[37m\u001b[0m \u001b[1m15s\u001b[0m 16ms/step - accuracy: 0.9994 - loss: 0.0013 - val_accuracy: 0.9996 - val_loss: 0.0027 - learning_rate: 1.0000e-04\n",
      "Epoch 15/100\n",
      "\u001b[1m914/914\u001b[0m \u001b[32m━━━━━━━━━━━━━━━━━━━━\u001b[0m\u001b[37m\u001b[0m \u001b[1m12s\u001b[0m 13ms/step - accuracy: 0.9996 - loss: 7.1887e-04 - val_accuracy: 0.9995 - val_loss: 0.0027 - learning_rate: 1.0000e-04\n",
      "Epoch 16/100\n",
      "\u001b[1m914/914\u001b[0m \u001b[32m━━━━━━━━━━━━━━━━━━━━\u001b[0m\u001b[37m\u001b[0m \u001b[1m22s\u001b[0m 24ms/step - accuracy: 0.9999 - loss: 4.4367e-04 - val_accuracy: 0.9993 - val_loss: 0.0037 - learning_rate: 1.0000e-04\n",
      "Epoch 17/100\n",
      "\u001b[1m914/914\u001b[0m \u001b[32m━━━━━━━━━━━━━━━━━━━━\u001b[0m\u001b[37m\u001b[0m \u001b[1m22s\u001b[0m 23ms/step - accuracy: 0.9999 - loss: 2.3866e-04 - val_accuracy: 0.9993 - val_loss: 0.0040 - learning_rate: 1.0000e-04\n",
      "\u001b[1m229/229\u001b[0m \u001b[32m━━━━━━━━━━━━━━━━━━━━\u001b[0m\u001b[37m\u001b[0m \u001b[1m1s\u001b[0m 5ms/step - accuracy: 0.9998 - loss: 6.0553e-04\n",
      "Test Loss: 0.0015549814561381936\n",
      "Test Accuracy: 0.9994529485702515\n"
     ]
    }
   ],
   "source": [
    "from keras.callbacks import EarlyStopping, ReduceLROnPlateau\n",
    "\n",
    "# Compile mô hình\n",
    "model.compile(optimizer='adam', loss='binary_crossentropy', metrics=['accuracy'])\n",
    "\n",
    "# Callback\n",
    "early_stopping = EarlyStopping(monitor='val_loss', patience=10, restore_best_weights=True)\n",
    "reduce_lr = ReduceLROnPlateau(monitor='val_loss', factor=0.1, patience=5, mode='min')\n",
    "\n",
    "# Huấn luyện mô hình\n",
    "history = model.fit(\n",
    "    X_train, y_train,\n",
    "    validation_data=(X_test, y_test),\n",
    "    epochs=100,\n",
    "    batch_size=32,\n",
    "    callbacks=[early_stopping, reduce_lr]\n",
    ")\n",
    "\n",
    "# Lưu mô hình sau khi huấn luyện hoàn tất\n",
    "model.save('final_model.keras')\n",
    "\n",
    "# Đánh giá mô hình\n",
    "test_loss, test_accuracy = model.evaluate(X_test, y_test)\n",
    "print(f\"Test Loss: {test_loss}\")\n",
    "print(f\"Test Accuracy: {test_accuracy}\")\n"
   ]
  },
  {
   "cell_type": "code",
   "execution_count": 49,
   "metadata": {
    "execution": {
     "iopub.execute_input": "2023-07-14T19:08:45.625016Z",
     "iopub.status.busy": "2023-07-14T19:08:45.624532Z",
     "iopub.status.idle": "2023-07-14T19:08:48.894129Z",
     "shell.execute_reply": "2023-07-14T19:08:48.892981Z",
     "shell.execute_reply.started": "2023-07-14T19:08:45.624981Z"
    },
    "trusted": true
   },
   "outputs": [
    {
     "name": "stdout",
     "output_type": "stream",
     "text": [
      "\u001b[1m229/229\u001b[0m \u001b[32m━━━━━━━━━━━━━━━━━━━━\u001b[0m\u001b[37m\u001b[0m \u001b[1m1s\u001b[0m 4ms/step\n"
     ]
    }
   ],
   "source": [
    "# Dự đoán nhãn cho tập kiểm tra\n",
    "y_pred = model.predict(X_test)\n",
    "\n",
    "# Chuyển đổi dạng dự đoán thành nhãn dự đoán\n",
    "y_pred_classes = (y_pred > 0.5).astype(int)"
   ]
  },
  {
   "cell_type": "code",
   "execution_count": 50,
   "metadata": {
    "execution": {
     "iopub.execute_input": "2023-07-14T19:13:22.976167Z",
     "iopub.status.busy": "2023-07-14T19:13:22.975741Z",
     "iopub.status.idle": "2023-07-14T19:13:22.992919Z",
     "shell.execute_reply": "2023-07-14T19:13:22.991852Z",
     "shell.execute_reply.started": "2023-07-14T19:13:22.976126Z"
    },
    "trusted": true
   },
   "outputs": [],
   "source": [
    "y_pred_label = onehot.inverse_transform(y_pred)\n",
    "y_test_label = onehot.inverse_transform(y_test)\n",
    "y_train_label = onehot.inverse_transform(y_train)"
   ]
  },
  {
   "cell_type": "code",
   "execution_count": 51,
   "metadata": {
    "execution": {
     "iopub.execute_input": "2023-07-14T19:10:29.495578Z",
     "iopub.status.busy": "2023-07-14T19:10:29.495185Z",
     "iopub.status.idle": "2023-07-14T19:10:30.808880Z",
     "shell.execute_reply": "2023-07-14T19:10:30.808068Z",
     "shell.execute_reply.started": "2023-07-14T19:10:29.495549Z"
    },
    "trusted": true
   },
   "outputs": [
    {
     "data": {
      "image/png": "[encoded data removed]",
      "text/plain": [
       "<Figure size 1400x1200 with 2 Axes>"
      ]
     },
     "metadata": {},
     "output_type": "display_data"
    }
   ],
   "source": [
    "from sklearn.metrics import confusion_matrix\n",
    "cnf_matrix = confusion_matrix(y_test_label, y_pred_label)\n",
    "\n",
    "import matplotlib.pyplot as plt\n",
    "import itertools\n",
    "def plot_confusion_matrix(cm, classes,\n",
    "                          normalize=False,\n",
    "                          title='Confusion matrix',\n",
    "                          cmap=plt.cm.Blues):\n",
    "    \"\"\"\n",
    "    This function prints and plots the confusion matrix.\n",
    "    Normalization can be applied by setting `normalize=True`.\n",
    "    \"\"\"\n",
    "    if normalize:\n",
    "        cm = cm.astype('float') / cm.sum(axis=1, keepdims = True)\n",
    "\n",
    "    plt.imshow(cm, interpolation='nearest', cmap=cmap)\n",
    "    plt.title(title)\n",
    "    plt.colorbar()\n",
    "    tick_marks = np.arange(len(classes))\n",
    "    plt.xticks(tick_marks, classes, rotation=45)\n",
    "    plt.yticks(tick_marks, classes)\n",
    "\n",
    "    fmt = '.2f' if normalize else 'd'\n",
    "    thresh = cm.max() / 2.\n",
    "    for i, j in itertools.product(range(cm.shape[0]), range(cm.shape[1])):\n",
    "        plt.text(j, i, format(cm[i, j], fmt),\n",
    "                 horizontalalignment=\"center\",\n",
    "                 color=\"white\" if cm[i, j] > thresh else \"black\")\n",
    "    plt.tight_layout()\n",
    "    plt.ylabel('True label')\n",
    "    plt.xlabel('Predicted label')\n",
    "\n",
    "# Plot non-normalized confusion matrix\n",
    "class_names = onehot.categories_[0]\n",
    "# # plt.figure()\n",
    "# plt.figure(figsize=(14, 12))\n",
    "\n",
    "# plot_confusion_matrix(cnf_matrix, classes=class_names,\n",
    "#                       title='Confusion matrix, without normalization')\n",
    "\n",
    "# Plot normalized confusion matrix\n",
    "# plt.figure()\n",
    "plt.figure(figsize=(14, 12))\n",
    "plot_confusion_matrix(cnf_matrix, classes=class_names, normalize=True,\n",
    "                      title='Normalized confusion matrix')\n",
    "plt.xticks(rotation=60)  \n",
    "plt.savefig('confusion_matrix.png')\n",
    "\n",
    "plt.show()"
   ]
  },
  {
   "cell_type": "code",
   "execution_count": 52,
   "metadata": {
    "execution": {
     "iopub.execute_input": "2023-07-14T19:11:18.368058Z",
     "iopub.status.busy": "2023-07-14T19:11:18.367631Z",
     "iopub.status.idle": "2023-07-14T19:11:18.385095Z",
     "shell.execute_reply": "2023-07-14T19:11:18.383743Z",
     "shell.execute_reply.started": "2023-07-14T19:11:18.368023Z"
    },
    "trusted": true
   },
   "outputs": [
    {
     "name": "stdout",
     "output_type": "stream",
     "text": [
      "accuracy =  0.99945295404814\n"
     ]
    }
   ],
   "source": [
    "#accuracy\n",
    "from sklearn.metrics import accuracy_score\n",
    "print('accuracy = ',accuracy_score(y_test_label, y_pred_label))"
   ]
  },
  {
   "cell_type": "code",
   "execution_count": 53,
   "metadata": {
    "execution": {
     "iopub.execute_input": "2023-07-14T19:15:54.153866Z",
     "iopub.status.busy": "2023-07-14T19:15:54.152708Z",
     "iopub.status.idle": "2023-07-14T19:16:02.438431Z",
     "shell.execute_reply": "2023-07-14T19:16:02.437048Z",
     "shell.execute_reply.started": "2023-07-14T19:15:54.153831Z"
    },
    "trusted": true
   },
   "outputs": [
    {
     "name": "stdout",
     "output_type": "stream",
     "text": [
      "\u001b[1m914/914\u001b[0m \u001b[32m━━━━━━━━━━━━━━━━━━━━\u001b[0m\u001b[37m\u001b[0m \u001b[1m3s\u001b[0m 3ms/step\n",
      "Recall trên tập huấn luyện: 0.9991793188346327\n",
      "Recall trên tập kiểm tra: 0.99945295404814\n"
     ]
    }
   ],
   "source": [
    "from sklearn.metrics import recall_score\n",
    "\n",
    "# Tính toán recall trên tập huấn luyện\n",
    "y_train_pred = model.predict(X_train)\n",
    "y_train_pred_label = onehot.inverse_transform(y_train_pred)\n",
    "\n",
    "train_recall = recall_score(y_train_label, y_train_pred_label, average='weighted')\n",
    "\n",
    "# Tính toán recall trên tập kiểm tra\n",
    "test_recall = recall_score(y_test_label, y_pred_label, average='weighted')\n",
    "\n",
    "print(\"Recall trên tập huấn luyện:\", train_recall)\n",
    "print(\"Recall trên tập kiểm tra:\", test_recall)"
   ]
  },
  {
   "cell_type": "code",
   "execution_count": 54,
   "metadata": {
    "execution": {
     "iopub.execute_input": "2023-07-14T19:18:21.759105Z",
     "iopub.status.busy": "2023-07-14T19:18:21.757609Z",
     "iopub.status.idle": "2023-07-14T19:18:22.147159Z",
     "shell.execute_reply": "2023-07-14T19:18:22.145834Z",
     "shell.execute_reply.started": "2023-07-14T19:18:21.759005Z"
    },
    "trusted": true
   },
   "outputs": [
    {
     "name": "stdout",
     "output_type": "stream",
     "text": [
      "F-measure trên tập huấn luyện: 0.9991793345465415\n",
      "F-measure trên tập kiểm tra: 0.9994529164893152\n"
     ]
    }
   ],
   "source": [
    "from sklearn.metrics import f1_score\n",
    "\n",
    "# Tính toán F-measure trên tập huấn luyện\n",
    "train_f1 = f1_score(y_train_label, y_train_pred_label, average='weighted')\n",
    "\n",
    "# Tính toán F-measure trên tập kiểm tra\n",
    "test_f1 = f1_score(y_test_label, y_pred_label, average='weighted')\n",
    "\n",
    "print(\"F-measure trên tập huấn luyện:\", train_f1)\n",
    "print(\"F-measure trên tập kiểm tra:\", test_f1)"
   ]
  },
  {
   "cell_type": "code",
   "execution_count": 55,
   "metadata": {
    "execution": {
     "iopub.execute_input": "2023-07-14T20:24:04.113540Z",
     "iopub.status.busy": "2023-07-14T20:24:04.113112Z",
     "iopub.status.idle": "2023-07-14T20:24:04.467717Z",
     "shell.execute_reply": "2023-07-14T20:24:04.466411Z",
     "shell.execute_reply.started": "2023-07-14T20:24:04.113512Z"
    },
    "trusted": true
   },
   "outputs": [
    {
     "name": "stdout",
     "output_type": "stream",
     "text": [
      "Minimum validation loss: 0.0015549814561381936\n"
     ]
    },
    {
     "data": {
      "image/png": "[encoded data removed]",
      "text/plain": [
       "<Figure size 640x480 with 1 Axes>"
      ]
     },
     "metadata": {},
     "output_type": "display_data"
    }
   ],
   "source": [
    "history_df = pd.DataFrame(history.history)\n",
    "history_df.loc[:, ['loss', 'val_loss']].plot();\n",
    "print(\"Minimum validation loss: {}\".format(history_df['val_loss'].min()))\n",
    "# plt.savefig('loss_plot.png')"
   ]
  },
  {
   "cell_type": "code",
   "execution_count": 59,
   "metadata": {
    "execution": {
     "iopub.execute_input": "2023-07-14T15:22:26.531790Z",
     "iopub.status.busy": "2023-07-14T15:22:26.531209Z",
     "iopub.status.idle": "2023-07-14T15:22:26.653026Z",
     "shell.execute_reply": "2023-07-14T15:22:26.651188Z",
     "shell.execute_reply.started": "2023-07-14T15:22:26.531749Z"
    },
    "trusted": true
   },
   "outputs": [
    {
     "data": {
      "text/plain": [
       "['tfidf.joblib']"
      ]
     },
     "execution_count": 59,
     "metadata": {},
     "output_type": "execute_result"
    }
   ],
   "source": [
    "import joblib\n",
    "\n",
    "joblib.dump(count_vectorizer, 'count_vectorizer.joblib')\n",
    "joblib.dump(onehot, 'one_hot_encoder.joblib')\n",
    "joblib.dump(tfidf_transformer, 'tfidf.joblib')"
   ]
  }
 ],
 "metadata": {
  "kernelspec": {
   "display_name": "Python 3",
   "language": "python",
   "name": "python3"
  },
  "language_info": {
   "codemirror_mode": {
    "name": "ipython",
    "version": 3
   },
   "file_extension": ".py",
   "mimetype": "text/x-python",
   "name": "python",
   "nbconvert_exporter": "python",
   "pygments_lexer": "ipython3",
   "version": "3.10.0"
  }
 },
 "nbformat": 4,
 "nbformat_minor": 4
}
